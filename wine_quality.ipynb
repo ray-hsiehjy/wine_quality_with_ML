{
  "nbformat": 4,
  "nbformat_minor": 0,
  "metadata": {
    "colab": {
      "name": "wine_quality.ipynb",
      "provenance": [],
      "collapsed_sections": [],
      "toc_visible": true,
      "include_colab_link": true
    },
    "kernelspec": {
      "name": "python3",
      "display_name": "Python 3"
    },
    "accelerator": "GPU"
  },
  "cells": [
    {
      "cell_type": "markdown",
      "metadata": {
        "id": "view-in-github",
        "colab_type": "text"
      },
      "source": [
        "<a href=\"https://colab.research.google.com/github/ray-hsiehjy/wine_quality_with_ML/blob/master/wine_quality.ipynb\" target=\"_parent\"><img src=\"https://colab.research.google.com/assets/colab-badge.svg\" alt=\"Open In Colab\"/></a>"
      ]
    },
    {
      "cell_type": "markdown",
      "metadata": {
        "id": "FhFaH8HJ48VO",
        "colab_type": "text"
      },
      "source": [
        "# Wine Quality* \n",
        "- Section 1: Get data and import libraries\n",
        "- Section 2: Regression with neural network\n",
        "- Section 3: Regression with ElasticNet and SVR\n",
        "- Section 4: Comparison and conclusion\n",
        "\n",
        "    \\*Base on physiochemical properties (quality control)\n"
      ]
    },
    {
      "cell_type": "markdown",
      "metadata": {
        "id": "cGoninfolmEV",
        "colab_type": "text"
      },
      "source": [
        "## Data source\n",
        "- [UCI Machine Learning repositories](https://archive.ics.uci.edu/ml/datasets/Wine+Quality)\n",
        "- For more information, read [Cortez et al., 2009](http://dx.doi.org/10.1016/j.dss.2009.05.016).\n",
        "\n",
        "## Input variables (based on physicochemical tests):\n",
        "- 1 - fixed acidity\n",
        "- 2 - volatile acidity\n",
        "- 3 - citric acid\n",
        "- 4 - residual sugar\n",
        "- 5 - chlorides\n",
        "- 6 - free sulfur dioxide\n",
        "- 7 - total sulfur dioxide\n",
        "- 8 - density\n",
        "- 9 - pH\n",
        "- 10 - sulphates\n",
        "- 11 - alcohol\n",
        "    \n",
        "## Output variable (based on sensory data):\n",
        "- 12 - quality (score between 0 and 10)\n"
      ]
    },
    {
      "cell_type": "markdown",
      "metadata": {
        "id": "t4bXgoLcmSdP",
        "colab_type": "text"
      },
      "source": [
        "## Questions from first impression\n",
        "- What are the determinants for wine quality?\n",
        "- Do reds and whites share the same quality-control metrics? \n",
        "- Do different regression approaches generate differential results?"
      ]
    },
    {
      "cell_type": "markdown",
      "metadata": {
        "id": "nBPjvpuf7hi-",
        "colab_type": "text"
      },
      "source": [
        "# Section 1: Get data and import libraries"
      ]
    },
    {
      "cell_type": "code",
      "metadata": {
        "id": "EiRGFPv3EpqO",
        "colab_type": "code",
        "outputId": "2f5e3d9b-0474-42c6-cb1d-22fbc00e988b",
        "colab": {
          "base_uri": "https://localhost:8080/",
          "height": 404
        }
      },
      "source": [
        "# Get data from UCI repository\n",
        "!wget https://archive.ics.uci.edu/ml/machine-learning-databases/wine-quality/winequality-red.csv\n",
        "!wget https://archive.ics.uci.edu/ml/machine-learning-databases/wine-quality/winequality-white.csv"
      ],
      "execution_count": 1,
      "outputs": [
        {
          "output_type": "stream",
          "text": [
            "--2019-09-20 23:55:27--  https://archive.ics.uci.edu/ml/machine-learning-databases/wine-quality/winequality-red.csv\n",
            "Resolving archive.ics.uci.edu (archive.ics.uci.edu)... 128.195.10.252\n",
            "Connecting to archive.ics.uci.edu (archive.ics.uci.edu)|128.195.10.252|:443... connected.\n",
            "HTTP request sent, awaiting response... 200 OK\n",
            "Length: 84199 (82K) [application/x-httpd-php]\n",
            "Saving to: ‘winequality-red.csv’\n",
            "\n",
            "\rwinequality-red.csv   0%[                    ]       0  --.-KB/s               \rwinequality-red.csv  47%[========>           ]  39.00K   147KB/s               \rwinequality-red.csv 100%[===================>]  82.23K   309KB/s    in 0.3s    \n",
            "\n",
            "2019-09-20 23:55:28 (309 KB/s) - ‘winequality-red.csv’ saved [84199/84199]\n",
            "\n",
            "--2019-09-20 23:55:29--  https://archive.ics.uci.edu/ml/machine-learning-databases/wine-quality/winequality-white.csv\n",
            "Resolving archive.ics.uci.edu (archive.ics.uci.edu)... 128.195.10.252\n",
            "Connecting to archive.ics.uci.edu (archive.ics.uci.edu)|128.195.10.252|:443... connected.\n",
            "HTTP request sent, awaiting response... 200 OK\n",
            "Length: 264426 (258K) [application/x-httpd-php]\n",
            "Saving to: ‘winequality-white.csv’\n",
            "\n",
            "winequality-white.c 100%[===================>] 258.23K   489KB/s    in 0.5s    \n",
            "\n",
            "2019-09-20 23:55:30 (489 KB/s) - ‘winequality-white.csv’ saved [264426/264426]\n",
            "\n"
          ],
          "name": "stdout"
        }
      ]
    },
    {
      "cell_type": "code",
      "metadata": {
        "id": "b06kFvnHE3Zm",
        "colab_type": "code",
        "colab": {}
      },
      "source": [
        "import pandas as pd\n",
        "import numpy as np\n",
        "import matplotlib.pyplot as plt\n",
        "import seaborn as sns\n",
        "\n",
        "import sklearn.preprocessing as preprocessing\n",
        "from sklearn.linear_model import ElasticNetCV\n",
        "# from sklearn.metrics import r2_score\n",
        "from sklearn.svm import SVR\n",
        "\n",
        "import tensorflow as tf\n",
        "from tensorflow.keras.models import Model\n",
        "from tensorflow.keras.layers import Input, Dense, Dropout, BatchNormalization\n",
        "from tensorflow.keras.optimizers import Adam\n",
        "from tensorflow.keras import regularizers\n",
        "from tensorflow.keras.callbacks import Callback, ReduceLROnPlateau\n",
        "import tensorflow.keras.backend as K\n",
        "\n",
        "%matplotlib inline"
      ],
      "execution_count": 0,
      "outputs": []
    },
    {
      "cell_type": "code",
      "metadata": {
        "id": "breVlhnwxUZm",
        "colab_type": "code",
        "outputId": "9a6313f0-b5d1-49a3-8cad-cc7e651aa99a",
        "colab": {
          "base_uri": "https://localhost:8080/",
          "height": 238
        }
      },
      "source": [
        "red_df = pd.read_csv(\"/content/winequality-red.csv\", sep=\";\")\n",
        "white_df = pd.read_csv(\"/content/winequality-white.csv\", sep=\";\")\n",
        "both_df = pd.concat([red_df, white_df], axis=0, ignore_index=True)\n",
        "\n",
        "dfs = {\"red\":red_df, \"white\":white_df, \"both\":both_df}\n",
        "\n",
        "print(f\"red:{red_df.shape}, white:{white_df.shape}, both:{both_df.shape}\")\n",
        "dfs[\"both\"].head()"
      ],
      "execution_count": 3,
      "outputs": [
        {
          "output_type": "stream",
          "text": [
            "red:(1599, 12), white:(4898, 12), both:(6497, 12)\n"
          ],
          "name": "stdout"
        },
        {
          "output_type": "execute_result",
          "data": {
            "text/html": [
              "<div>\n",
              "<style scoped>\n",
              "    .dataframe tbody tr th:only-of-type {\n",
              "        vertical-align: middle;\n",
              "    }\n",
              "\n",
              "    .dataframe tbody tr th {\n",
              "        vertical-align: top;\n",
              "    }\n",
              "\n",
              "    .dataframe thead th {\n",
              "        text-align: right;\n",
              "    }\n",
              "</style>\n",
              "<table border=\"1\" class=\"dataframe\">\n",
              "  <thead>\n",
              "    <tr style=\"text-align: right;\">\n",
              "      <th></th>\n",
              "      <th>fixed acidity</th>\n",
              "      <th>volatile acidity</th>\n",
              "      <th>citric acid</th>\n",
              "      <th>residual sugar</th>\n",
              "      <th>chlorides</th>\n",
              "      <th>free sulfur dioxide</th>\n",
              "      <th>total sulfur dioxide</th>\n",
              "      <th>density</th>\n",
              "      <th>pH</th>\n",
              "      <th>sulphates</th>\n",
              "      <th>alcohol</th>\n",
              "      <th>quality</th>\n",
              "    </tr>\n",
              "  </thead>\n",
              "  <tbody>\n",
              "    <tr>\n",
              "      <th>0</th>\n",
              "      <td>7.4</td>\n",
              "      <td>0.70</td>\n",
              "      <td>0.00</td>\n",
              "      <td>1.9</td>\n",
              "      <td>0.076</td>\n",
              "      <td>11.0</td>\n",
              "      <td>34.0</td>\n",
              "      <td>0.9978</td>\n",
              "      <td>3.51</td>\n",
              "      <td>0.56</td>\n",
              "      <td>9.4</td>\n",
              "      <td>5</td>\n",
              "    </tr>\n",
              "    <tr>\n",
              "      <th>1</th>\n",
              "      <td>7.8</td>\n",
              "      <td>0.88</td>\n",
              "      <td>0.00</td>\n",
              "      <td>2.6</td>\n",
              "      <td>0.098</td>\n",
              "      <td>25.0</td>\n",
              "      <td>67.0</td>\n",
              "      <td>0.9968</td>\n",
              "      <td>3.20</td>\n",
              "      <td>0.68</td>\n",
              "      <td>9.8</td>\n",
              "      <td>5</td>\n",
              "    </tr>\n",
              "    <tr>\n",
              "      <th>2</th>\n",
              "      <td>7.8</td>\n",
              "      <td>0.76</td>\n",
              "      <td>0.04</td>\n",
              "      <td>2.3</td>\n",
              "      <td>0.092</td>\n",
              "      <td>15.0</td>\n",
              "      <td>54.0</td>\n",
              "      <td>0.9970</td>\n",
              "      <td>3.26</td>\n",
              "      <td>0.65</td>\n",
              "      <td>9.8</td>\n",
              "      <td>5</td>\n",
              "    </tr>\n",
              "    <tr>\n",
              "      <th>3</th>\n",
              "      <td>11.2</td>\n",
              "      <td>0.28</td>\n",
              "      <td>0.56</td>\n",
              "      <td>1.9</td>\n",
              "      <td>0.075</td>\n",
              "      <td>17.0</td>\n",
              "      <td>60.0</td>\n",
              "      <td>0.9980</td>\n",
              "      <td>3.16</td>\n",
              "      <td>0.58</td>\n",
              "      <td>9.8</td>\n",
              "      <td>6</td>\n",
              "    </tr>\n",
              "    <tr>\n",
              "      <th>4</th>\n",
              "      <td>7.4</td>\n",
              "      <td>0.70</td>\n",
              "      <td>0.00</td>\n",
              "      <td>1.9</td>\n",
              "      <td>0.076</td>\n",
              "      <td>11.0</td>\n",
              "      <td>34.0</td>\n",
              "      <td>0.9978</td>\n",
              "      <td>3.51</td>\n",
              "      <td>0.56</td>\n",
              "      <td>9.4</td>\n",
              "      <td>5</td>\n",
              "    </tr>\n",
              "  </tbody>\n",
              "</table>\n",
              "</div>"
            ],
            "text/plain": [
              "   fixed acidity  volatile acidity  citric acid  ...  sulphates  alcohol  quality\n",
              "0            7.4              0.70         0.00  ...       0.56      9.4        5\n",
              "1            7.8              0.88         0.00  ...       0.68      9.8        5\n",
              "2            7.8              0.76         0.04  ...       0.65      9.8        5\n",
              "3           11.2              0.28         0.56  ...       0.58      9.8        6\n",
              "4            7.4              0.70         0.00  ...       0.56      9.4        5\n",
              "\n",
              "[5 rows x 12 columns]"
            ]
          },
          "metadata": {
            "tags": []
          },
          "execution_count": 3
        }
      ]
    },
    {
      "cell_type": "markdown",
      "metadata": {
        "id": "kNyy-NMs4_zE",
        "colab_type": "text"
      },
      "source": [
        "# Section 2: Regression with Neural Network"
      ]
    },
    {
      "cell_type": "markdown",
      "metadata": {
        "id": "_uqrbV4r0x_T",
        "colab_type": "text"
      },
      "source": [
        "## Section 2.1: some util functions"
      ]
    },
    {
      "cell_type": "code",
      "metadata": {
        "id": "UC7FrF7WI7Fd",
        "colab_type": "code",
        "colab": {}
      },
      "source": [
        "def scale_X(train_X, test_X):\n",
        "    \n",
        "    scr = preprocessing.StandardScaler().fit(train_X)\n",
        "    train_X = scr.transform(train_X)\n",
        "    test_X = scr.transform(test_X)\n",
        "    \n",
        "    return train_X, test_X, scr\n",
        "\n",
        "\n",
        "\n",
        "\n",
        "def load_split(wine=None, frac=0.9, seed=1):\n",
        "\n",
        "    \"\"\"\n",
        "    wine, either \"red\" or \"white\"\n",
        "    frac, fraction for training, default 0.9\n",
        "    seed, numpy random seed\n",
        "    \"\"\"\n",
        "\n",
        "    if wine not in [\"red\", \"white\", \"both\"]:\n",
        "        print(\"wine type either be 'red' or 'white' or 'both'\")\n",
        "    df = dfs[wine]\n",
        "\n",
        "    np.random.seed(seed)\n",
        "    mask = np.random.rand(len(df)) < frac\n",
        "\n",
        "    train_X = df[mask].iloc[:, :-1].values\n",
        "    test_X = df[~mask].iloc[:, :-1].values\n",
        "    train_y = df[mask].iloc[:, -1].values\n",
        "    test_y = df[~mask].iloc[:, -1].values\n",
        "\n",
        "    train_y = np.expand_dims(train_y, axis=-1)\n",
        "    test_y = np.expand_dims(test_y, axis=-1)\n",
        "\n",
        "    assert train_X.shape[0] == train_y.shape[0]\n",
        "    assert test_X.shape[0] == test_y.shape[0]\n",
        "    assert train_X.shape[1] == test_X.shape[1]\n",
        "\n",
        "    return train_X, train_y, test_X, test_y\n",
        "\n",
        "\n",
        "\n",
        "\n",
        "def build_model(input_shape, units=64, layers=2, dropout=False):\n",
        "\n",
        "    \"\"\"\n",
        "    input_shape = train_X.shape[1]\n",
        "    units: neurons in each layer\n",
        "    layers: number of layers in the middle, integer >= 0\n",
        "    dropout: True or False, applied to the middle layers\n",
        "    \"\"\"\n",
        "\n",
        "    X_inputs = Input(shape=input_shape)\n",
        "    \n",
        "    X = Dense(units, activation=\"relu\")(X_inputs)\n",
        "    X = BatchNormalization()(X)\n",
        "    \n",
        "    for _ in range(layers):\n",
        "        X = Dense(units, activation=\"relu\")(X)\n",
        "        X = BatchNormalization()(X)\n",
        "        if dropout:\n",
        "            X = Dropout(0.5)(X)\n",
        "\n",
        "    outputs = Dense(1)(X)\n",
        "\n",
        "    model = Model(inputs=X_inputs, outputs=outputs)\n",
        "\n",
        "    return model\n",
        "\n",
        "\n",
        "\n",
        "\n",
        "def wine_nn(train_wine, units=64, layers=2, dropout=False, cks=None):\n",
        "    \n",
        "    \"\"\"\n",
        "    train_wine: type of wine for training, either red, white or both\n",
        "    units: neurons in each layer\n",
        "    layers: number of layers in the middle, integer >= 0\n",
        "    dropout: True or False, applied to the middle layers\n",
        "    \"\"\"\n",
        "    \n",
        "    if train_wine not in [\"red\", \"white\", \"both\"]:\n",
        "        print (\"specify train wine type: 'red', 'white' or 'both'\")\n",
        "    \n",
        "    train_X, train_y, test_X, test_y = load_split(train_wine)\n",
        "    train_X, test_X, scr = scale_X(train_X, test_X)\n",
        "    \n",
        "    input_shape = train_X.shape[1]\n",
        "    model = build_model(input_shape, units=units, layers=layers, dropout=dropout)\n",
        "    \n",
        "    opt=Adam()\n",
        "    model.compile(optimizer=opt, loss=\"mean_squared_error\", metrics=[\"mean_absolute_error\"])\n",
        "    \n",
        "    history = model.fit(\n",
        "    train_X, train_y,\n",
        "    batch_size=64, epochs=1000, \n",
        "    verbose=0, callbacks=cks, \n",
        "    validation_data=(test_X, test_y))\n",
        "    \n",
        "    return history.history, model, scr\n",
        "    "
      ],
      "execution_count": 0,
      "outputs": []
    },
    {
      "cell_type": "markdown",
      "metadata": {
        "id": "nsaFTjTbwxUC",
        "colab_type": "text"
      },
      "source": [
        "## Section 2.2: Find a model structure"
      ]
    },
    {
      "cell_type": "code",
      "metadata": {
        "id": "mtIEtkrNvMGb",
        "colab_type": "code",
        "outputId": "82ec644f-f65c-4cc0-84e7-38990769fcc1",
        "colab": {
          "base_uri": "https://localhost:8080/",
          "height": 178
        }
      },
      "source": [
        "# grid search for a model structure\n",
        "%%time\n",
        "\n",
        "lr_reduction = ReduceLROnPlateau(monitor=\"val_loss\", factor=0.5, patience=10, verbose=0, cooldown=10, min_delta=1e-4, min_lr=1e-5)\n",
        "\n",
        "\n",
        "train_wines = [\"red\", \"white\", \"both\"]\n",
        "units_lst = [64]    # tried [8, 16, 32, 64, 128, 256]\n",
        "layers_lst = [2]    # tried [0, 1, 2, 3]\n",
        "dropout_lst = [True]    # tried [True, False]\n",
        "cks_lst = [None]    # tried [None, [lr_reduction]] \n",
        "\n",
        "histories = {}\n",
        "for train_wine in train_wines:\n",
        "    for units in units_lst:\n",
        "        for layers in layers_lst:\n",
        "            for dropout in dropout_lst:\n",
        "                for cks in cks_lst:\n",
        "                    nn_id = f\"{train_wine}_units{units}_layers{layers}_dropout{dropout}_cks{cks != None}\"\n",
        "                    print(nn_id)\n",
        "\n",
        "                    train_history, _, _ = wine_nn(train_wine, units=units, layers=layers, dropout=dropout, cks=cks)\n",
        "                    histories[nn_id] = train_history\n",
        "\n"
      ],
      "execution_count": 5,
      "outputs": [
        {
          "output_type": "stream",
          "text": [
            "red_units64_layers2_dropoutTrue_cksFalse\n",
            "WARNING:tensorflow:From /usr/local/lib/python3.6/dist-packages/tensorflow/python/ops/init_ops.py:1251: calling VarianceScaling.__init__ (from tensorflow.python.ops.init_ops) with dtype is deprecated and will be removed in a future version.\n",
            "Instructions for updating:\n",
            "Call initializer instance with the dtype argument instead of passing it to the constructor\n",
            "white_units64_layers2_dropoutTrue_cksFalse\n",
            "both_units64_layers2_dropoutTrue_cksFalse\n",
            "CPU times: user 31min 30s, sys: 3min 9s, total: 34min 39s\n",
            "Wall time: 23min 41s\n"
          ],
          "name": "stdout"
        }
      ]
    },
    {
      "cell_type": "code",
      "metadata": {
        "id": "r6GCXhCxvMLx",
        "colab_type": "code",
        "colab": {
          "base_uri": "https://localhost:8080/",
          "height": 269
        },
        "outputId": "5f8b273b-401d-4e26-ab5c-dba532f93f1b"
      },
      "source": [
        "for k, v in histories.items():\n",
        "    \n",
        "    last5_val_mse = np.mean(v[\"val_loss\"][-5:])\n",
        "    last5_val_mae = np.mean(v[\"val_mean_absolute_error\"][-5:])\n",
        "    \n",
        "    plt.plot(v[\"val_mean_absolute_error\"], \n",
        "             label=f\"{k.split('_')[0]}, mse={last5_val_mse:.3f}, mae={last5_val_mae:.3f}\")\n",
        "    plt.legend()\n",
        "    plt.yscale(\"log\")"
      ],
      "execution_count": 6,
      "outputs": [
        {
          "output_type": "display_data",
          "data": {
            "image/png": "[encoded data removed]",
            "text/plain": [
              "<Figure size 432x288 with 1 Axes>"
            ]
          },
          "metadata": {
            "tags": []
          }
        }
      ]
    },
    {
      "cell_type": "markdown",
      "metadata": {
        "id": "DR6yV8KPw0Va",
        "colab_type": "text"
      },
      "source": [
        "## Section 2.3: Create models and cross check performace\n",
        "- Based on grid search, models will have three 64-units layers followed by single output neuron. Dropout applied to the two middle layers\n",
        "- The three models are trained with red, white or both respetively\n",
        "- Individual performance is the same as in section 2.2\n",
        "- Performace check on other types of wine using cross_pred()"
      ]
    },
    {
      "cell_type": "code",
      "metadata": {
        "id": "ciH8e4SMG4sJ",
        "colab_type": "code",
        "colab": {}
      },
      "source": [
        "def cross_pred(train_wine, test_wine):\n",
        "    \"\"\"\n",
        "    train_wine: red or white or both\n",
        "    test_wine: red or white or both\n",
        "    Note: \n",
        "    If train and test are the same. Test will be performed on training set, and yeild good results\n",
        "    Likewise, training on both will for sure perform good on test_red or test_white\n",
        "    \"\"\"\n",
        "    \n",
        "    model = models[train_wine]    # models is a dictionary\n",
        "    scr = scalers[train_wine]    # scalers is a dictionary, values are sklearn scaler object fit with train_wine\n",
        "    \n",
        "    test_X = dfs[test_wine].iloc[:, :-1].values    \n",
        "    test_X = scr.transform(test_X)    # scale test_X with scaler from training data\n",
        "    test_y = np.expand_dims(dfs[test_wine].iloc[:, -1].values, axis=-1)\n",
        "    \n",
        "    print(f\"Evaluate {train_wine}_on_{test_wine}\")\n",
        "    mse, _ = model.evaluate(test_X, test_y, batch_size=1, verbose=0)\n",
        "    \n",
        "    return mse"
      ],
      "execution_count": 0,
      "outputs": []
    },
    {
      "cell_type": "code",
      "metadata": {
        "id": "etnQsWAU1wqp",
        "colab_type": "code",
        "colab": {}
      },
      "source": [
        "models = {}\n",
        "scalers = {}\n",
        "for train_wine in [\"red\", \"white\", \"both\"]:\n",
        "    _, models[train_wine], scalers[train_wine] = wine_nn(train_wine, units=64, layers=2, dropout=True, cks=None)\n",
        "    "
      ],
      "execution_count": 0,
      "outputs": []
    },
    {
      "cell_type": "code",
      "metadata": {
        "id": "3N4rlyIYLv5x",
        "colab_type": "code",
        "colab": {}
      },
      "source": [
        "# Red_model perform on red, white, and both\n",
        "\n",
        "model_comp = pd.DataFrame(\n",
        "    {\n",
        "        \"red_model\":[cross_pred(\"red\", \"red\"), cross_pred(\"red\", \"white\"), cross_pred(\"red\", \"both\")],\n",
        "        \"white_model\":[cross_pred(\"white\", \"red\"), cross_pred(\"white\", \"white\"), cross_pred(\"white\", \"both\")],\n",
        "        \"both_model\":[cross_pred(\"both\", \"red\"), cross_pred(\"both\", \"white\"), cross_pred(\"both\", \"both\")] \n",
        "    }, \n",
        "    index=[\"red\", \"white\", \"both\"]\n",
        ")\n",
        "\n",
        "\n",
        "nn_performance = np.diag(model_comp)"
      ],
      "execution_count": 0,
      "outputs": []
    },
    {
      "cell_type": "code",
      "metadata": {
        "id": "CVyxSFXvTKO5",
        "colab_type": "code",
        "colab": {
          "base_uri": "https://localhost:8080/",
          "height": 287
        },
        "outputId": "f6ae3b65-fb9b-4cc2-a022-f8c3374baf56"
      },
      "source": [
        "sns.heatmap(model_comp, annot=True, cmap=\"Greens\")"
      ],
      "execution_count": 18,
      "outputs": [
        {
          "output_type": "execute_result",
          "data": {
            "text/plain": [
              "<matplotlib.axes._subplots.AxesSubplot at 0x7f6716d85e48>"
            ]
          },
          "metadata": {
            "tags": []
          },
          "execution_count": 18
        },
        {
          "output_type": "display_data",
          "data": {
            "image/png": "[encoded data removed]",
            "text/plain": [
              "<Figure size 432x288 with 2 Axes>"
            ]
          },
          "metadata": {
            "tags": []
          }
        }
      ]
    },
    {
      "cell_type": "markdown",
      "metadata": {
        "id": "Q4Or0ebM5B3U",
        "colab_type": "text"
      },
      "source": [
        "# Section 3: Regression with ElasticNet and SVM"
      ]
    },
    {
      "cell_type": "markdown",
      "metadata": {
        "id": "CL3pJifouGry",
        "colab_type": "text"
      },
      "source": [
        "## Section 3.1: Regression with ElasticNet"
      ]
    },
    {
      "cell_type": "code",
      "metadata": {
        "id": "HLqWWNXsgEq5",
        "colab_type": "code",
        "colab": {}
      },
      "source": [
        "def elas_regr(train_wine):\n",
        "    regr = ElasticNetCV(\n",
        "        l1_ratio = [.1, .5, .7, .9, .95, .99, 1],\n",
        "        cv = 10,\n",
        "        random_state=2\n",
        "    )\n",
        "\n",
        "    train_X, train_y, test_X, test_y = load_split(train_wine)\n",
        "\n",
        "    train_X, test_X, _ = scale_X(train_X, test_X)\n",
        "    train_y = train_y.squeeze()\n",
        "    test_y = test_y.squeeze()\n",
        "\n",
        "    regr.fit(train_X, train_y)\n",
        "    r2 = regr.score(test_X, test_y)\n",
        "\n",
        "    return regr.mse_path_.min(), regr.coef_, regr, r2"
      ],
      "execution_count": 0,
      "outputs": []
    },
    {
      "cell_type": "code",
      "metadata": {
        "id": "P5Vw5DTT0hu-",
        "colab_type": "code",
        "outputId": "cccf0216-0f7f-41ea-ef50-da528c888743",
        "colab": {
          "base_uri": "https://localhost:8080/",
          "height": 435
        }
      },
      "source": [
        "_, axes = plt.subplots(nrows=1, ncols=3, figsize=(12, 5), sharex=True, sharey=True)\n",
        "\n",
        "elas_performance = []\n",
        "for train_wine, ax in zip([\"red\", \"white\", \"both\"], axes.flat):\n",
        "    \n",
        "    m, c, _, _ = elas_regr(train_wine)\n",
        "    \n",
        "    features = dfs[train_wine].columns[:-1]\n",
        "    ax.bar(features, c)\n",
        "    ax.set_xticklabels(features, rotation=90)\n",
        "    ax.set_title(f\"{train_wine}_on_{train_wine}\\nmse = {m:.2f}\")\n",
        "    \n",
        "    for i in range(len(features)):\n",
        "        if abs(c[i]) < 0.1: continue\n",
        "        if c[i] < 0:\n",
        "            ax.annotate(s=f\"{c[i]:.2f}\", xy=(i, c[i]-0.01), ha=\"center\", va=\"center\")\n",
        "        if c[i] > 0:\n",
        "            ax.annotate(s=f\"{c[i]:.2f}\", xy=(i, c[i]+0.01), ha=\"center\", va=\"center\")\n",
        "        \n",
        "    \n",
        "    elas_performance.append(m)\n"
      ],
      "execution_count": 13,
      "outputs": [
        {
          "output_type": "display_data",
          "data": {
            "image/png": "[encoded data removed]",
            "text/plain": [
              "<Figure size 864x360 with 3 Axes>"
            ]
          },
          "metadata": {
            "tags": []
          }
        }
      ]
    },
    {
      "cell_type": "markdown",
      "metadata": {
        "id": "8uPxwAK7v8Lq",
        "colab_type": "text"
      },
      "source": [
        "## Section 3.2: Regression with SVR"
      ]
    },
    {
      "cell_type": "code",
      "metadata": {
        "id": "NvSGrQJDjOe-",
        "colab_type": "code",
        "colab": {}
      },
      "source": [
        "def svr_regr(train_wine):\n",
        "    \n",
        "    features = dfs[train_wine].columns[:-1]\n",
        "    \n",
        "    train_X, train_y, test_X, test_y = load_split(train_wine)\n",
        "    \n",
        "    train_X, test_X, scr = scale_X(train_X, test_X)\n",
        "    train_y = train_y.squeeze()\n",
        "    test_y = test_y.squeeze()\n",
        "\n",
        "    # little difference between kernel type linear and rbf\n",
        "    regr = SVR(kernel=\"rbf\", gamma=\"scale\", C=1, cache_size=500)\n",
        "\n",
        "    regr.fit(train_X, train_y)\n",
        "    mse = np.square(regr.predict(test_X) - test_y).mean()\n",
        "\n",
        "    return mse, regr"
      ],
      "execution_count": 0,
      "outputs": []
    },
    {
      "cell_type": "code",
      "metadata": {
        "id": "bjvR1n40o_Fy",
        "colab_type": "code",
        "colab": {}
      },
      "source": [
        "red_mse, _ = svr_regr(\"red\")\n",
        "white_mse, _ = svr_regr(\"white\")\n",
        "both_mse, _ = svr_regr(\"both\")\n",
        "\n",
        "svr_performance = [red_mse, white_mse, both_mse]"
      ],
      "execution_count": 0,
      "outputs": []
    },
    {
      "cell_type": "markdown",
      "metadata": {
        "id": "7NxgROCfs29L",
        "colab_type": "text"
      },
      "source": [
        "# Section 4: Conclusion"
      ]
    },
    {
      "cell_type": "markdown",
      "metadata": {
        "id": "xAR9Jp2-uWoq",
        "colab_type": "text"
      },
      "source": [
        "## Section 4.1 Comments on individual models\n",
        "- neural network perfrom similarly within and across groups\n",
        "- ElasticNet shows similar performance to neural network\n",
        "- Further breakdown on feature_weights shows that ElasticNet extract information differently from reds and whites\n",
        "- SVR performs a little bit worse than the other two, regardless kernel types"
      ]
    },
    {
      "cell_type": "markdown",
      "metadata": {
        "id": "LlP_yos5u8NR",
        "colab_type": "text"
      },
      "source": [
        "## Section 4.2 Compare across models\n",
        "- In general, nn performs better than ElasticNet or SVR (i.e lower loss, aka mean_squred_error)\n",
        "- ElasticNet however generates results easier to understand and interpret (i.e the weights on each feature)\n",
        "- The original paper achieved better results from SVR, perhaps through better tuning. I did not spend too much time optimizing parameters and hyperparameters for all three approaches"
      ]
    },
    {
      "cell_type": "code",
      "metadata": {
        "id": "m8Q1yYLAsCtL",
        "colab_type": "code",
        "outputId": "1c936a12-9139-4ec8-bf79-a63ed3ffe309",
        "colab": {
          "base_uri": "https://localhost:8080/",
          "height": 301
        }
      },
      "source": [
        "perf_sum = pd.DataFrame(\n",
        "    {\n",
        "        \"NeualNet\": nn_performance,\n",
        "        \"ElasticNet\":elas_performance,\n",
        "        \"SVR\":svr_performance\n",
        "    },\n",
        "    index=[\"red_on_red\", \"white_on_white\", \"both_on_both\"]\n",
        "\n",
        ")\n",
        "\n",
        "perf_sum.index.name = \"MSE\"\n",
        "perf_sum.columns.name = \"Model\"\n",
        "\n",
        "sns.heatmap(perf_sum, annot=True, cmap=\"Greens\")"
      ],
      "execution_count": 17,
      "outputs": [
        {
          "output_type": "execute_result",
          "data": {
            "text/plain": [
              "<matplotlib.axes._subplots.AxesSubplot at 0x7f67171c5898>"
            ]
          },
          "metadata": {
            "tags": []
          },
          "execution_count": 17
        },
        {
          "output_type": "display_data",
          "data": {
            "image/png": "[encoded data removed]",
            "text/plain": [
              "<Figure size 432x288 with 2 Axes>"
            ]
          },
          "metadata": {
            "tags": []
          }
        }
      ]
    }
  ]
}